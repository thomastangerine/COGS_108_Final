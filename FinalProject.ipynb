{
 "cells": [
  {
   "cell_type": "markdown",
   "metadata": {},
   "source": [
    "# COGS 108 - Final Project "
   ]
  },
  {
   "cell_type": "markdown",
   "metadata": {},
   "source": [
    "# Overview"
   ]
  },
  {
   "cell_type": "markdown",
   "metadata": {},
   "source": [
    "*Fill in your overview here*"
   ]
  },
  {
   "cell_type": "markdown",
   "metadata": {},
   "source": [
    "# Names\n",
    "\n",
    "- Oprah Winfrey\n",
    "- Miley Cyrus\n",
    "- Sam Smith\n",
    "- J. Cole"
   ]
  },
  {
   "cell_type": "markdown",
   "metadata": {},
   "source": [
    "# Group Members IDs\n",
    "\n",
    "- A########\n",
    "- A########\n",
    "- A########\n",
    "- A########"
   ]
  },
  {
   "cell_type": "markdown",
   "metadata": {},
   "source": [
    "# Research Question"
   ]
  },
  {
   "cell_type": "markdown",
   "metadata": {},
   "source": [
    "*Fill in your research question here*"
   ]
  },
  {
   "cell_type": "markdown",
   "metadata": {},
   "source": [
    "## Background and Prior Work"
   ]
  },
  {
   "cell_type": "markdown",
   "metadata": {},
   "source": [
    "*Fill in your background and prior work here* \n",
    "\n",
    "References (include links):\n",
    "- 1)\n",
    "- 2)"
   ]
  },
  {
   "cell_type": "markdown",
   "metadata": {},
   "source": [
    "# Hypothesis\n"
   ]
  },
  {
   "cell_type": "markdown",
   "metadata": {},
   "source": [
    "*Fill in your hypotheses here*"
   ]
  },
  {
   "cell_type": "markdown",
   "metadata": {},
   "source": [
    "# Dataset(s)"
   ]
  },
  {
   "cell_type": "markdown",
   "metadata": {},
   "source": [
    "*Fill in your dataset information here*\n",
    "\n",
    "(Copy this information for each dataset)\n",
    "- Dataset Name:\n",
    "- Link to the dataset:\n",
    "- Number of observations:\n",
    "\n",
    "1-2 sentences describing each dataset. \n",
    "\n",
    "If you plan to use multiple datasets, add 1-2 sentences about how you plan to combine these datasets."
   ]
  },
  {
   "cell_type": "markdown",
   "metadata": {},
   "source": [
    "# Setup"
   ]
  },
  {
   "cell_type": "code",
   "execution_count": 1,
   "metadata": {},
   "outputs": [],
   "source": [
    "%matplotlib inline\n",
    "\n",
    "# Import libraries\n",
    "import numpy as np\n",
    "import pandas as pd\n",
    "import matplotlib.pyplot as plt\n",
    "import seaborn as sns"
   ]
  },
  {
   "cell_type": "markdown",
   "metadata": {},
   "source": [
    "# Data Cleaning"
   ]
  },
  {
   "cell_type": "markdown",
   "metadata": {},
   "source": [
    "Describe your data cleaning steps here."
   ]
  },
  {
   "cell_type": "code",
   "execution_count": 2,
   "metadata": {},
   "outputs": [
    {
     "ename": "FileNotFoundError",
     "evalue": "File b'shot_logs.csv' does not exist",
     "output_type": "error",
     "traceback": [
      "\u001b[0;31m---------------------------------------------------------------------------\u001b[0m",
      "\u001b[0;31mFileNotFoundError\u001b[0m                         Traceback (most recent call last)",
      "\u001b[0;32m<ipython-input-2-5e05bc474a25>\u001b[0m in \u001b[0;36m<module>\u001b[0;34m()\u001b[0m\n\u001b[0;32m----> 1\u001b[0;31m \u001b[0mprint\u001b[0m\u001b[0;34m(\u001b[0m\u001b[0mpd\u001b[0m\u001b[0;34m.\u001b[0m\u001b[0mread_csv\u001b[0m\u001b[0;34m(\u001b[0m\u001b[0;34m'shot_logs.csv'\u001b[0m\u001b[0;34m)\u001b[0m\u001b[0;34m)\u001b[0m\u001b[0;34m\u001b[0m\u001b[0;34m\u001b[0m\u001b[0m\n\u001b[0m",
      "\u001b[0;32m/opt/conda/lib/python3.6/site-packages/pandas/io/parsers.py\u001b[0m in \u001b[0;36mparser_f\u001b[0;34m(filepath_or_buffer, sep, delimiter, header, names, index_col, usecols, squeeze, prefix, mangle_dupe_cols, dtype, engine, converters, true_values, false_values, skipinitialspace, skiprows, nrows, na_values, keep_default_na, na_filter, verbose, skip_blank_lines, parse_dates, infer_datetime_format, keep_date_col, date_parser, dayfirst, iterator, chunksize, compression, thousands, decimal, lineterminator, quotechar, quoting, escapechar, comment, encoding, dialect, tupleize_cols, error_bad_lines, warn_bad_lines, skipfooter, doublequote, delim_whitespace, low_memory, memory_map, float_precision)\u001b[0m\n\u001b[1;32m    676\u001b[0m                     skip_blank_lines=skip_blank_lines)\n\u001b[1;32m    677\u001b[0m \u001b[0;34m\u001b[0m\u001b[0m\n\u001b[0;32m--> 678\u001b[0;31m         \u001b[0;32mreturn\u001b[0m \u001b[0m_read\u001b[0m\u001b[0;34m(\u001b[0m\u001b[0mfilepath_or_buffer\u001b[0m\u001b[0;34m,\u001b[0m \u001b[0mkwds\u001b[0m\u001b[0;34m)\u001b[0m\u001b[0;34m\u001b[0m\u001b[0;34m\u001b[0m\u001b[0m\n\u001b[0m\u001b[1;32m    679\u001b[0m \u001b[0;34m\u001b[0m\u001b[0m\n\u001b[1;32m    680\u001b[0m     \u001b[0mparser_f\u001b[0m\u001b[0;34m.\u001b[0m\u001b[0m__name__\u001b[0m \u001b[0;34m=\u001b[0m \u001b[0mname\u001b[0m\u001b[0;34m\u001b[0m\u001b[0;34m\u001b[0m\u001b[0m\n",
      "\u001b[0;32m/opt/conda/lib/python3.6/site-packages/pandas/io/parsers.py\u001b[0m in \u001b[0;36m_read\u001b[0;34m(filepath_or_buffer, kwds)\u001b[0m\n\u001b[1;32m    438\u001b[0m \u001b[0;34m\u001b[0m\u001b[0m\n\u001b[1;32m    439\u001b[0m     \u001b[0;31m# Create the parser.\u001b[0m\u001b[0;34m\u001b[0m\u001b[0;34m\u001b[0m\u001b[0;34m\u001b[0m\u001b[0m\n\u001b[0;32m--> 440\u001b[0;31m     \u001b[0mparser\u001b[0m \u001b[0;34m=\u001b[0m \u001b[0mTextFileReader\u001b[0m\u001b[0;34m(\u001b[0m\u001b[0mfilepath_or_buffer\u001b[0m\u001b[0;34m,\u001b[0m \u001b[0;34m**\u001b[0m\u001b[0mkwds\u001b[0m\u001b[0;34m)\u001b[0m\u001b[0;34m\u001b[0m\u001b[0;34m\u001b[0m\u001b[0m\n\u001b[0m\u001b[1;32m    441\u001b[0m \u001b[0;34m\u001b[0m\u001b[0m\n\u001b[1;32m    442\u001b[0m     \u001b[0;32mif\u001b[0m \u001b[0mchunksize\u001b[0m \u001b[0;32mor\u001b[0m \u001b[0miterator\u001b[0m\u001b[0;34m:\u001b[0m\u001b[0;34m\u001b[0m\u001b[0;34m\u001b[0m\u001b[0m\n",
      "\u001b[0;32m/opt/conda/lib/python3.6/site-packages/pandas/io/parsers.py\u001b[0m in \u001b[0;36m__init__\u001b[0;34m(self, f, engine, **kwds)\u001b[0m\n\u001b[1;32m    785\u001b[0m             \u001b[0mself\u001b[0m\u001b[0;34m.\u001b[0m\u001b[0moptions\u001b[0m\u001b[0;34m[\u001b[0m\u001b[0;34m'has_index_names'\u001b[0m\u001b[0;34m]\u001b[0m \u001b[0;34m=\u001b[0m \u001b[0mkwds\u001b[0m\u001b[0;34m[\u001b[0m\u001b[0;34m'has_index_names'\u001b[0m\u001b[0;34m]\u001b[0m\u001b[0;34m\u001b[0m\u001b[0;34m\u001b[0m\u001b[0m\n\u001b[1;32m    786\u001b[0m \u001b[0;34m\u001b[0m\u001b[0m\n\u001b[0;32m--> 787\u001b[0;31m         \u001b[0mself\u001b[0m\u001b[0;34m.\u001b[0m\u001b[0m_make_engine\u001b[0m\u001b[0;34m(\u001b[0m\u001b[0mself\u001b[0m\u001b[0;34m.\u001b[0m\u001b[0mengine\u001b[0m\u001b[0;34m)\u001b[0m\u001b[0;34m\u001b[0m\u001b[0;34m\u001b[0m\u001b[0m\n\u001b[0m\u001b[1;32m    788\u001b[0m \u001b[0;34m\u001b[0m\u001b[0m\n\u001b[1;32m    789\u001b[0m     \u001b[0;32mdef\u001b[0m \u001b[0mclose\u001b[0m\u001b[0;34m(\u001b[0m\u001b[0mself\u001b[0m\u001b[0;34m)\u001b[0m\u001b[0;34m:\u001b[0m\u001b[0;34m\u001b[0m\u001b[0;34m\u001b[0m\u001b[0m\n",
      "\u001b[0;32m/opt/conda/lib/python3.6/site-packages/pandas/io/parsers.py\u001b[0m in \u001b[0;36m_make_engine\u001b[0;34m(self, engine)\u001b[0m\n\u001b[1;32m   1012\u001b[0m     \u001b[0;32mdef\u001b[0m \u001b[0m_make_engine\u001b[0m\u001b[0;34m(\u001b[0m\u001b[0mself\u001b[0m\u001b[0;34m,\u001b[0m \u001b[0mengine\u001b[0m\u001b[0;34m=\u001b[0m\u001b[0;34m'c'\u001b[0m\u001b[0;34m)\u001b[0m\u001b[0;34m:\u001b[0m\u001b[0;34m\u001b[0m\u001b[0;34m\u001b[0m\u001b[0m\n\u001b[1;32m   1013\u001b[0m         \u001b[0;32mif\u001b[0m \u001b[0mengine\u001b[0m \u001b[0;34m==\u001b[0m \u001b[0;34m'c'\u001b[0m\u001b[0;34m:\u001b[0m\u001b[0;34m\u001b[0m\u001b[0;34m\u001b[0m\u001b[0m\n\u001b[0;32m-> 1014\u001b[0;31m             \u001b[0mself\u001b[0m\u001b[0;34m.\u001b[0m\u001b[0m_engine\u001b[0m \u001b[0;34m=\u001b[0m \u001b[0mCParserWrapper\u001b[0m\u001b[0;34m(\u001b[0m\u001b[0mself\u001b[0m\u001b[0;34m.\u001b[0m\u001b[0mf\u001b[0m\u001b[0;34m,\u001b[0m \u001b[0;34m**\u001b[0m\u001b[0mself\u001b[0m\u001b[0;34m.\u001b[0m\u001b[0moptions\u001b[0m\u001b[0;34m)\u001b[0m\u001b[0;34m\u001b[0m\u001b[0;34m\u001b[0m\u001b[0m\n\u001b[0m\u001b[1;32m   1015\u001b[0m         \u001b[0;32melse\u001b[0m\u001b[0;34m:\u001b[0m\u001b[0;34m\u001b[0m\u001b[0;34m\u001b[0m\u001b[0m\n\u001b[1;32m   1016\u001b[0m             \u001b[0;32mif\u001b[0m \u001b[0mengine\u001b[0m \u001b[0;34m==\u001b[0m \u001b[0;34m'python'\u001b[0m\u001b[0;34m:\u001b[0m\u001b[0;34m\u001b[0m\u001b[0;34m\u001b[0m\u001b[0m\n",
      "\u001b[0;32m/opt/conda/lib/python3.6/site-packages/pandas/io/parsers.py\u001b[0m in \u001b[0;36m__init__\u001b[0;34m(self, src, **kwds)\u001b[0m\n\u001b[1;32m   1706\u001b[0m         \u001b[0mkwds\u001b[0m\u001b[0;34m[\u001b[0m\u001b[0;34m'usecols'\u001b[0m\u001b[0;34m]\u001b[0m \u001b[0;34m=\u001b[0m \u001b[0mself\u001b[0m\u001b[0;34m.\u001b[0m\u001b[0musecols\u001b[0m\u001b[0;34m\u001b[0m\u001b[0;34m\u001b[0m\u001b[0m\n\u001b[1;32m   1707\u001b[0m \u001b[0;34m\u001b[0m\u001b[0m\n\u001b[0;32m-> 1708\u001b[0;31m         \u001b[0mself\u001b[0m\u001b[0;34m.\u001b[0m\u001b[0m_reader\u001b[0m \u001b[0;34m=\u001b[0m \u001b[0mparsers\u001b[0m\u001b[0;34m.\u001b[0m\u001b[0mTextReader\u001b[0m\u001b[0;34m(\u001b[0m\u001b[0msrc\u001b[0m\u001b[0;34m,\u001b[0m \u001b[0;34m**\u001b[0m\u001b[0mkwds\u001b[0m\u001b[0;34m)\u001b[0m\u001b[0;34m\u001b[0m\u001b[0;34m\u001b[0m\u001b[0m\n\u001b[0m\u001b[1;32m   1709\u001b[0m \u001b[0;34m\u001b[0m\u001b[0m\n\u001b[1;32m   1710\u001b[0m         \u001b[0mpassed_names\u001b[0m \u001b[0;34m=\u001b[0m \u001b[0mself\u001b[0m\u001b[0;34m.\u001b[0m\u001b[0mnames\u001b[0m \u001b[0;32mis\u001b[0m \u001b[0;32mNone\u001b[0m\u001b[0;34m\u001b[0m\u001b[0;34m\u001b[0m\u001b[0m\n",
      "\u001b[0;32mpandas/_libs/parsers.pyx\u001b[0m in \u001b[0;36mpandas._libs.parsers.TextReader.__cinit__\u001b[0;34m()\u001b[0m\n",
      "\u001b[0;32mpandas/_libs/parsers.pyx\u001b[0m in \u001b[0;36mpandas._libs.parsers.TextReader._setup_parser_source\u001b[0;34m()\u001b[0m\n",
      "\u001b[0;31mFileNotFoundError\u001b[0m: File b'shot_logs.csv' does not exist"
     ]
    }
   ],
   "source": [
    "print(pd.read_csv('shot_logs.csv'))"
   ]
  },
  {
   "cell_type": "markdown",
   "metadata": {},
   "source": [
    "         GAME_ID                     MATCHUP LOCATION  W  FINAL_MARGIN  \\\n",
    "0       21400899    MAR 04, 2015 - CHA @ BKN        A  W            24   \n",
    "1       21400899    MAR 04, 2015 - CHA @ BKN        A  W            24   \n",
    "2       21400899    MAR 04, 2015 - CHA @ BKN        A  W            24   \n",
    "3       21400899    MAR 04, 2015 - CHA @ BKN        A  W            24   \n",
    "4       21400899    MAR 04, 2015 - CHA @ BKN        A  W            24   \n",
    "5       21400899    MAR 04, 2015 - CHA @ BKN        A  W            24   \n",
    "6       21400899    MAR 04, 2015 - CHA @ BKN        A  W            24   \n",
    "7       21400899    MAR 04, 2015 - CHA @ BKN        A  W            24   \n",
    "8       21400899    MAR 04, 2015 - CHA @ BKN        A  W            24   \n",
    "9       21400890  MAR 03, 2015 - CHA vs. LAL        H  W             1   \n",
    "10      21400890  MAR 03, 2015 - CHA vs. LAL        H  W             1   \n",
    "11      21400890  MAR 03, 2015 - CHA vs. LAL        H  W             1   \n",
    "12      21400890  MAR 03, 2015 - CHA vs. LAL        H  W             1   \n",
    "13      21400882    MAR 01, 2015 - CHA @ ORL        A  W            15   \n",
    "14      21400859    FEB 27, 2015 - CHA @ BOS        A  L            -8   \n",
    "15      21400859    FEB 27, 2015 - CHA @ BOS        A  L            -8   \n",
    "16      21400859    FEB 27, 2015 - CHA @ BOS        A  L            -8   \n",
    "17      21400859    FEB 27, 2015 - CHA @ BOS        A  L            -8   \n",
    "18      21400859    FEB 27, 2015 - CHA @ BOS        A  L            -8   \n",
    "19      21400845    FEB 25, 2015 - CHA @ CHI        A  W            12   \n",
    "20      21400845    FEB 25, 2015 - CHA @ CHI        A  W            12   \n",
    "21      21400845    FEB 25, 2015 - CHA @ CHI        A  W            12   \n",
    "22      21400845    FEB 25, 2015 - CHA @ CHI        A  W            12   \n",
    "23      21400845    FEB 25, 2015 - CHA @ CHI        A  W            12   \n",
    "24      21400845    FEB 25, 2015 - CHA @ CHI        A  W            12   \n",
    "25      21400845    FEB 25, 2015 - CHA @ CHI        A  W            12   \n",
    "26      21400845    FEB 25, 2015 - CHA @ CHI        A  W            12   \n",
    "27      21400827    FEB 22, 2015 - CHA @ DAL        A  L           -11   \n",
    "28      21400827    FEB 22, 2015 - CHA @ DAL        A  L           -11   \n",
    "29      21400827    FEB 22, 2015 - CHA @ DAL        A  L           -11   \n",
    "...          ...                         ...      ... ..           ...   \n",
    "128039  21400075  NOV 07, 2014 - BKN vs. NYK        H  W            11   \n",
    "128040  21400075  NOV 07, 2014 - BKN vs. NYK        H  W            11   \n",
    "128041  21400075  NOV 07, 2014 - BKN vs. NYK        H  W            11   \n",
    "128042  21400075  NOV 07, 2014 - BKN vs. NYK        H  W            11   \n",
    "128043  21400060  NOV 05, 2014 - BKN vs. MIN        H  L            -7   \n",
    "128044  21400060  NOV 05, 2014 - BKN vs. MIN        H  L            -7   \n",
    "128045  21400060  NOV 05, 2014 - BKN vs. MIN        H  L            -7   \n",
    "128046  21400060  NOV 05, 2014 - BKN vs. MIN        H  L            -7   \n",
    "128047  21400060  NOV 05, 2014 - BKN vs. MIN        H  L            -7   \n",
    "128048  21400060  NOV 05, 2014 - BKN vs. MIN        H  L            -7   \n",
    "128049  21400060  NOV 05, 2014 - BKN vs. MIN        H  L            -7   \n",
    "128050  21400060  NOV 05, 2014 - BKN vs. MIN        H  L            -7   \n",
    "128051  21400044  NOV 03, 2014 - BKN vs. OKC        H  W            31   \n",
    "128052  21400044  NOV 03, 2014 - BKN vs. OKC        H  W            31   \n",
    "128053  21400044  NOV 03, 2014 - BKN vs. OKC        H  W            31   \n",
    "128054  21400044  NOV 03, 2014 - BKN vs. OKC        H  W            31   \n",
    "128055  21400044  NOV 03, 2014 - BKN vs. OKC        H  W            31   \n",
    "128056  21400033    NOV 01, 2014 - BKN @ DET        A  W            12   \n",
    "128057  21400033    NOV 01, 2014 - BKN @ DET        A  W            12   \n",
    "128058  21400033    NOV 01, 2014 - BKN @ DET        A  W            12   \n",
    "128059  21400033    NOV 01, 2014 - BKN @ DET        A  W            12   \n",
    "128060  21400006    OCT 29, 2014 - BKN @ BOS        A  L           -16   \n",
    "128061  21400006    OCT 29, 2014 - BKN @ BOS        A  L           -16   \n",
    "128062  21400006    OCT 29, 2014 - BKN @ BOS        A  L           -16   \n",
    "128063  21400006    OCT 29, 2014 - BKN @ BOS        A  L           -16   \n",
    "128064  21400006    OCT 29, 2014 - BKN @ BOS        A  L           -16   \n",
    "128065  21400006    OCT 29, 2014 - BKN @ BOS        A  L           -16   \n",
    "128066  21400006    OCT 29, 2014 - BKN @ BOS        A  L           -16   \n",
    "128067  21400006    OCT 29, 2014 - BKN @ BOS        A  L           -16   \n",
    "128068  21400006    OCT 29, 2014 - BKN @ BOS        A  L           -16   \n",
    "\n",
    "        SHOT_NUMBER  PERIOD GAME_CLOCK  SHOT_CLOCK  DRIBBLES    ...     \\\n",
    "0                 1       1       1:09        10.8         2    ...      \n",
    "1                 2       1       0:14         3.4         0    ...      \n",
    "2                 3       1       0:00         NaN         3    ...      \n",
    "3                 4       2      11:47        10.3         2    ...      \n",
    "4                 5       2      10:34        10.9         2    ...      \n",
    "5                 6       2       8:15         9.1         2    ...      \n",
    "6                 7       4      10:15        14.5        11    ...      \n",
    "7                 8       4       8:00         3.4         3    ...      \n",
    "8                 9       4       5:14        12.4         0    ...      \n",
    "9                 1       2      11:32        17.4         0    ...      \n",
    "10                2       2       6:30        16.0         8    ...      \n",
    "11                3       4      11:32        12.1        14    ...      \n",
    "12                4       4       8:55         4.3         2    ...      \n",
    "13                1       4       9:10         4.4         0    ...      \n",
    "14                1       1       0:48         6.8         0    ...      \n",
    "15                2       2      10:38         6.4         3    ...      \n",
    "16                3       2       8:27        17.6         6    ...      \n",
    "17                4       4      10:55         8.7         1    ...      \n",
    "18                5       4      10:29        20.8         0    ...      \n",
    "19                1       1       3:35        17.5         2    ...      \n",
    "20                2       1       0:33        19.5         5    ...      \n",
    "21                3       2       8:50         6.0         6    ...      \n",
    "22                4       2       8:24        15.7         0    ...      \n",
    "23                5       2       5:32        11.2        16    ...      \n",
    "24                6       2       0:04         NaN         0    ...      \n",
    "25                7       4      10:13        17.1         7    ...      \n",
    "26                8       4       5:34        15.4         1    ...      \n",
    "27                1       1       2:25        12.3         0    ...      \n",
    "28                2       2       9:08        18.2         7    ...      \n",
    "29                3       2       8:53        11.9         1    ...      \n",
    "...             ...     ...        ...         ...       ...    ...      \n",
    "128039            2       2       9:05         7.9         6    ...      \n",
    "128040            3       4      11:13         8.8         0    ...      \n",
    "128041            4       4       4:23        10.3         3    ...      \n",
    "128042            5       4       0:06         4.0        20    ...      \n",
    "128043            1       2      11:48        12.1        16    ...      \n",
    "128044            2       2      10:05         8.4         3    ...      \n",
    "128045            3       2       9:34         9.0         0    ...      \n",
    "128046            4       3       4:01        19.3         2    ...      \n",
    "128047            5       3       3:05         7.3         6    ...      \n",
    "128048            6       4      11:01         9.0         0    ...      \n",
    "128049            7       4       7:27        11.0         2    ...      \n",
    "128050            8       4       6:41        22.7         1    ...      \n",
    "128051            2       1       0:16         NaN         3    ...      \n",
    "128052            3       2      10:29        19.3         2    ...      \n",
    "128053            4       3       6:15         3.2         5    ...      \n",
    "128054            5       3       3:17         4.1         2    ...      \n",
    "128055            6       4      11:22        13.8         0    ...      \n",
    "128056            1       1       1:50         7.1         2    ...      \n",
    "128057            2       2      10:02         7.3         0    ...      \n",
    "128058            3       4      10:57        14.3         2    ...      \n",
    "128059            4       4       8:34        19.8         0    ...      \n",
    "128060            1       1       1:59        11.4        16    ...      \n",
    "128061            2       2      10:10        19.0         0    ...      \n",
    "128062            3       2       7:46         7.0         1    ...      \n",
    "128063            4       2       5:05        15.3         2    ...      \n",
    "128064            5       3       1:52        18.3         5    ...      \n",
    "128065            6       4      11:28        19.8         4    ...      \n",
    "128066            7       4      11:10        23.0         2    ...      \n",
    "128067            8       4       2:37         9.1         4    ...      \n",
    "128068            9       4       0:12         NaN         5    ...      \n",
    "\n",
    "        SHOT_DIST  PTS_TYPE  SHOT_RESULT    CLOSEST_DEFENDER  \\\n",
    "0             7.7         2         made      Anderson, Alan   \n",
    "1            28.2         3       missed   Bogdanovic, Bojan   \n",
    "2            10.1         2       missed   Bogdanovic, Bojan   \n",
    "3            17.2         2       missed       Brown, Markel   \n",
    "4             3.7         2       missed     Young, Thaddeus   \n",
    "5            18.4         2       missed     Williams, Deron   \n",
    "6            20.7         2       missed       Jack, Jarrett   \n",
    "7             3.5         2         made      Plumlee, Mason   \n",
    "8            24.6         3       missed      Morris, Darius   \n",
    "9            22.4         3       missed    Ellington, Wayne   \n",
    "10           24.5         3       missed         Lin, Jeremy   \n",
    "11           14.6         2         made         Lin, Jeremy   \n",
    "12            5.9         2         made        Hill, Jordan   \n",
    "13           26.4         3       missed       Green, Willie   \n",
    "14           22.8         3       missed       Smart, Marcus   \n",
    "15           24.7         3         made        Young, James   \n",
    "16           25.0         3       missed      Jerebko, Jonas   \n",
    "17           25.6         3       missed        Crowder, Jae   \n",
    "18           24.2         3         made      Thomas, Isaiah   \n",
    "19           25.4         3       missed       Brooks, Aaron   \n",
    "20           19.1         2         made       Hinrich, Kirk   \n",
    "21           14.8         2         made         Gibson, Taj   \n",
    "22           25.2         3       missed       Hinrich, Kirk   \n",
    "23           22.8         3         made         Gibson, Taj   \n",
    "24           25.2         3       missed       Butler, Jimmy   \n",
    "25           24.6         3         made        Noah, Joakim   \n",
    "26           10.6         2         made       Brooks, Aaron   \n",
    "27           20.2         2       missed       Harris, Devin   \n",
    "28           24.9         3       missed    Barea, Jose Juan   \n",
    "29            8.3         2       missed    Barea, Jose Juan   \n",
    "...           ...       ...          ...                 ...   \n",
    "128039       10.7         2       missed       Larkin, Shane   \n",
    "128040        2.5         2       missed        Smith, Jason   \n",
    "128041        7.5         2         made       Larkin, Shane   \n",
    "128042        6.8         2         made        Wear, Travis   \n",
    "128043       16.2         2         made        Williams, Mo   \n",
    "128044       17.7         2       missed        Williams, Mo   \n",
    "128045        3.6         2       missed       Dieng, Gorgui   \n",
    "128046       17.0         2       missed       Martin, Kevin   \n",
    "128047       15.5         2         made        Williams, Mo   \n",
    "128048       20.2         2         made       Brewer, Corey   \n",
    "128049        9.4         2         made     Pekovic, Nikola   \n",
    "128050        2.3         2         made        Williams, Mo   \n",
    "128051        2.6         2         made  Telfair, Sebastian   \n",
    "128052       18.9         2       missed  Telfair, Sebastian   \n",
    "128053       13.7         2       missed       Adams, Steven   \n",
    "128054       11.1         2       missed  Telfair, Sebastian   \n",
    "128055        5.1         2       missed     Jackson, Reggie   \n",
    "128056       15.5         2       missed   Jennings, Brandon   \n",
    "128057       22.1         3       missed      Augustin, D.J.   \n",
    "128058       18.2         2         made      Augustin, D.J.   \n",
    "128059       22.7         3       missed      Augustin, D.J.   \n",
    "128060       12.6         2       missed        Rondo, Rajon   \n",
    "128061        7.4         2       missed      Bradley, Avery   \n",
    "128062       14.5         2         made       Smart, Marcus   \n",
    "128063        8.9         2         made    Sullinger, Jared   \n",
    "128064        8.7         2       missed       Smart, Marcus   \n",
    "128065        0.6         2         made        Turner, Evan   \n",
    "128066       16.9         2         made    Thornton, Marcus   \n",
    "128067       18.3         2       missed      Bradley, Avery   \n",
    "128068        5.1         2         made      Bradley, Avery   \n",
    "\n",
    "       CLOSEST_DEFENDER_PLAYER_ID  CLOSE_DEF_DIST  FGM  PTS    player_name  \\\n",
    "0                          101187             1.3    1    2  brian roberts   \n",
    "1                          202711             6.1    0    0  brian roberts   \n",
    "2                          202711             0.9    0    0  brian roberts   \n",
    "3                          203900             3.4    0    0  brian roberts   \n",
    "4                          201152             1.1    0    0  brian roberts   \n",
    "5                          101114             2.6    0    0  brian roberts   \n",
    "6                          101127             6.1    0    0  brian roberts   \n",
    "7                          203486             2.1    1    2  brian roberts   \n",
    "8                          202721             7.3    0    0  brian roberts   \n",
    "9                          201961            19.8    0    0  brian roberts   \n",
    "10                         202391             4.7    0    0  brian roberts   \n",
    "11                         202391             1.8    1    2  brian roberts   \n",
    "12                         201941             5.4    1    2  brian roberts   \n",
    "13                           2584             4.4    0    0  brian roberts   \n",
    "14                         203935             5.3    0    0  brian roberts   \n",
    "15                         203923             5.6    1    3  brian roberts   \n",
    "16                         201973             5.4    0    0  brian roberts   \n",
    "17                         203109             5.1    0    0  brian roberts   \n",
    "18                         202738            11.1    1    3  brian roberts   \n",
    "19                         201166             3.5    0    0  brian roberts   \n",
    "20                           2550             4.0    1    2  brian roberts   \n",
    "21                         201959             5.4    1    2  brian roberts   \n",
    "22                           2550             3.7    0    0  brian roberts   \n",
    "23                         201959             5.1    1    3  brian roberts   \n",
    "24                         202710             3.6    0    0  brian roberts   \n",
    "25                         201149             6.0    1    3  brian roberts   \n",
    "26                         201166             0.7    1    2  brian roberts   \n",
    "27                           2734             3.5    0    0  brian roberts   \n",
    "28                         200826             4.5    0    0  brian roberts   \n",
    "29                         200826             3.5    0    0  brian roberts   \n",
    "...                           ...             ...  ...  ...            ...   \n",
    "128039                     203499             1.2    0    0   jarrett jack   \n",
    "128040                     201160             5.1    0    0   jarrett jack   \n",
    "128041                     203499             0.9    1    2   jarrett jack   \n",
    "128042                     204037             0.9    1    2   jarrett jack   \n",
    "128043                       2590             2.5    1    2   jarrett jack   \n",
    "128044                       2590             1.8    0    0   jarrett jack   \n",
    "128045                     203476             1.5    0    0   jarrett jack   \n",
    "128046                       2755             3.6    0    0   jarrett jack   \n",
    "128047                       2590             2.4    1    2   jarrett jack   \n",
    "128048                     201147            11.1    1    2   jarrett jack   \n",
    "128049                     201593             6.0    1    2   jarrett jack   \n",
    "128050                       2590             7.7    1    2   jarrett jack   \n",
    "128051                       2742             5.4    1    2   jarrett jack   \n",
    "128052                       2742             3.8    0    0   jarrett jack   \n",
    "128053                     203500             2.8    0    0   jarrett jack   \n",
    "128054                       2742             4.2    0    0   jarrett jack   \n",
    "128055                     202704             2.1    0    0   jarrett jack   \n",
    "128056                     201943             3.1    0    0   jarrett jack   \n",
    "128057                     201571             2.9    0    0   jarrett jack   \n",
    "128058                     201571             1.1    1    2   jarrett jack   \n",
    "128059                     201571             4.0    0    0   jarrett jack   \n",
    "128060                     200765             4.8    0    0   jarrett jack   \n",
    "128061                     202340             2.7    0    0   jarrett jack   \n",
    "128062                     203935             3.1    1    2   jarrett jack   \n",
    "128063                     203096             5.7    1    2   jarrett jack   \n",
    "128064                     203935             0.8    0    0   jarrett jack   \n",
    "128065                     202323             0.6    1    2   jarrett jack   \n",
    "128066                     201977             4.2    1    2   jarrett jack   \n",
    "128067                     202340             3.0    0    0   jarrett jack   \n",
    "128068                     202340             2.3    1    2   jarrett jack   \n",
    "\n",
    "       player_id  \n",
    "0         203148  \n",
    "1         203148  \n",
    "2         203148  \n",
    "3         203148  \n",
    "4         203148  \n",
    "5         203148  \n",
    "6         203148  \n",
    "7         203148  \n",
    "8         203148  \n",
    "9         203148  \n",
    "10        203148  \n",
    "11        203148  \n",
    "12        203148  \n",
    "13        203148  \n",
    "14        203148  \n",
    "15        203148  \n",
    "16        203148  \n",
    "17        203148  \n",
    "18        203148  \n",
    "19        203148  \n",
    "20        203148  \n",
    "21        203148  \n",
    "22        203148  \n",
    "23        203148  \n",
    "24        203148  \n",
    "25        203148  \n",
    "26        203148  \n",
    "27        203148  \n",
    "28        203148  \n",
    "29        203148  \n",
    "...          ...  \n",
    "128039    101127  \n",
    "128040    101127  \n",
    "128041    101127  \n",
    "128042    101127  \n",
    "128043    101127  \n",
    "128044    101127  \n",
    "128045    101127  \n",
    "128046    101127  \n",
    "128047    101127  \n",
    "128048    101127  \n",
    "128049    101127  \n",
    "128050    101127  \n",
    "128051    101127  \n",
    "128052    101127  \n",
    "128053    101127  \n",
    "128054    101127  \n",
    "128055    101127  \n",
    "128056    101127  \n",
    "128057    101127  \n",
    "128058    101127  \n",
    "128059    101127  \n",
    "128060    101127  \n",
    "128061    101127  \n",
    "128062    101127  \n",
    "128063    101127  \n",
    "128064    101127  \n",
    "128065    101127  \n",
    "128066    101127  \n",
    "128067    101127  \n",
    "128068    101127  \n",
    "\n",
    "[128069 rows x 21 columns]"
   ]
  },
  {
   "cell_type": "markdown",
   "metadata": {},
   "source": [
    "explain why we drop certain cols"
   ]
  },
  {
   "cell_type": "code",
   "execution_count": null,
   "metadata": {},
   "outputs": [],
   "source": [
    "shots = pd.read_csv('shot_logs.csv')\n",
    "shots.drop(['GAME_ID', 'MATCHUP', 'LOCATION', 'SHOT_NUMBER', 'PERIOD', 'GAME_CLOCK', 'DRIBBLES', 'TOUCH_TIME',\n",
    "            'SHOT_DIST', 'CLOSEST_DEFENDER', 'CLOSEST_DEFENDER_PLAYER_ID', 'CLOSE_DEF_DIST', 'SHOT_RESULT', 'player_name', 'player_id'], axis=1, inplace=True)\n"
   ]
  },
  {
   "cell_type": "code",
   "execution_count": null,
   "metadata": {},
   "outputs": [],
   "source": [
    "print(shots)"
   ]
  },
  {
   "cell_type": "markdown",
   "metadata": {},
   "source": [
    "  W  FINAL_MARGIN  SHOT_CLOCK  PTS_TYPE  FGM  PTS\n",
    "0       W            24        10.8         2    1    2\n",
    "1       W            24         3.4         3    0    0\n",
    "3       W            24        10.3         2    0    0\n",
    "4       W            24        10.9         2    0    0\n",
    "5       W            24         9.1         2    0    0\n",
    "6       W            24        14.5         2    0    0\n",
    "7       W            24         3.4         2    1    2\n",
    "8       W            24        12.4         3    0    0\n",
    "9       W             1        17.4         3    0    0\n",
    "10      W             1        16.0         3    0    0\n",
    "11      W             1        12.1         2    1    2\n",
    "12      W             1         4.3         2    1    2\n",
    "13      W            15         4.4         3    0    0\n",
    "14      L            -8         6.8         3    0    0\n",
    "15      L            -8         6.4         3    1    3\n",
    "16      L            -8        17.6         3    0    0\n",
    "17      L            -8         8.7         3    0    0\n",
    "18      L            -8        20.8         3    1    3\n",
    "19      W            12        17.5         3    0    0\n",
    "20      W            12        19.5         2    1    2\n",
    "21      W            12         6.0         2    1    2\n",
    "22      W            12        15.7         3    0    0\n",
    "23      W            12        11.2         3    1    3\n",
    "25      W            12        17.1         3    1    3\n",
    "26      W            12        15.4         2    1    2\n",
    "27      L           -11        12.3         2    0    0\n",
    "28      L           -11        18.2         3    0    0\n",
    "29      L           -11        11.9         2    0    0\n",
    "30      L           -11        11.6         2    0    0\n",
    "31      L            -7        10.3         3    0    0\n",
    "...    ..           ...         ...       ...  ...  ...\n",
    "128037  W             8        11.2         2    1    2\n",
    "128038  W            11        13.6         2    0    0\n",
    "128039  W            11         7.9         2    0    0\n",
    "128040  W            11         8.8         2    0    0\n",
    "128041  W            11        10.3         2    1    2\n",
    "128042  W            11         4.0         2    1    2\n",
    "128043  L            -7        12.1         2    1    2\n",
    "128044  L            -7         8.4         2    0    0\n",
    "128045  L            -7         9.0         2    0    0\n",
    "128046  L            -7        19.3         2    0    0\n",
    "128047  L            -7         7.3         2    1    2\n",
    "128048  L            -7         9.0         2    1    2\n",
    "128049  L            -7        11.0         2    1    2\n",
    "128050  L            -7        22.7         2    1    2\n",
    "128052  W            31        19.3         2    0    0\n",
    "128053  W            31         3.2         2    0    0\n",
    "128054  W            31         4.1         2    0    0\n",
    "128055  W            31        13.8         2    0    0\n",
    "128056  W            12         7.1         2    0    0\n",
    "128057  W            12         7.3         3    0    0\n",
    "128058  W            12        14.3         2    1    2\n",
    "128059  W            12        19.8         3    0    0\n",
    "128060  L           -16        11.4         2    0    0\n",
    "128061  L           -16        19.0         2    0    0\n",
    "128062  L           -16         7.0         2    1    2\n",
    "128063  L           -16        15.3         2    1    2\n",
    "128064  L           -16        18.3         2    0    0\n",
    "128065  L           -16        19.8         2    1    2\n",
    "128066  L           -16        23.0         2    1    2\n",
    "128067  L           -16         9.1         2    0    0\n",
    "\n",
    "[122502 rows x 6 columns]"
   ]
  },
  {
   "cell_type": "code",
   "execution_count": null,
   "metadata": {},
   "outputs": [],
   "source": [
    "shots = shots[np.isfinite(shots['SHOT_CLOCK'])]"
   ]
  },
  {
   "cell_type": "code",
   "execution_count": null,
   "metadata": {},
   "outputs": [],
   "source": [
    "shots"
   ]
  },
  {
   "cell_type": "code",
   "execution_count": null,
   "metadata": {},
   "outputs": [],
   "source": [
    "shots['SHOT_CLOCK'].plot.hist(bins=25)"
   ]
  },
  {
   "cell_type": "code",
   "execution_count": null,
   "metadata": {},
   "outputs": [],
   "source": [
    "shot_clock_ranges = []\n",
    "shot_clock_ranges.append(shots.loc[(shots['SHOT_CLOCK'] >= 23) & (shots['SHOT_CLOCK'] <= 24)])\n",
    "shot_clock_ranges.append(shots.loc[(shots['SHOT_CLOCK'] >= 22) & (shots['SHOT_CLOCK'] < 23)])\n",
    "shot_clock_ranges.append(shots.loc[(shots['SHOT_CLOCK'] >= 21) & (shots['SHOT_CLOCK'] < 22)])\n",
    "shot_clock_ranges.append(shots.loc[(shots['SHOT_CLOCK'] >= 20) & (shots['SHOT_CLOCK'] < 21)])\n",
    "shot_clock_ranges.append(shots.loc[(shots['SHOT_CLOCK'] >= 19) & (shots['SHOT_CLOCK'] < 20)])\n",
    "shot_clock_ranges.append(shots.loc[(shots['SHOT_CLOCK'] >= 18) & (shots['SHOT_CLOCK'] < 19)])\n",
    "shot_clock_ranges.append(shots.loc[(shots['SHOT_CLOCK'] >= 17) & (shots['SHOT_CLOCK'] < 18)])\n",
    "shot_clock_ranges.append(shots.loc[(shots['SHOT_CLOCK'] >= 16) & (shots['SHOT_CLOCK'] < 17)])\n",
    "shot_clock_ranges.append(shots.loc[(shots['SHOT_CLOCK'] >= 15) & (shots['SHOT_CLOCK'] < 16)])\n",
    "shot_clock_ranges.append(shots.loc[(shots['SHOT_CLOCK'] >= 14) & (shots['SHOT_CLOCK'] < 15)])\n",
    "shot_clock_ranges.append(shots.loc[(shots['SHOT_CLOCK'] >= 13) & (shots['SHOT_CLOCK'] < 14)])\n",
    "shot_clock_ranges.append(shots.loc[(shots['SHOT_CLOCK'] >= 12) & (shots['SHOT_CLOCK'] < 13)])\n",
    "shot_clock_ranges.append(shots.loc[(shots['SHOT_CLOCK'] >= 11) & (shots['SHOT_CLOCK'] < 12)])\n",
    "shot_clock_ranges.append(shots.loc[(shots['SHOT_CLOCK'] >= 10) & (shots['SHOT_CLOCK'] < 11)])\n",
    "shot_clock_ranges.append(shots.loc[(shots['SHOT_CLOCK'] >= 9) & (shots['SHOT_CLOCK'] < 10)])\n",
    "shot_clock_ranges.append(shots.loc[(shots['SHOT_CLOCK'] >= 8) & (shots['SHOT_CLOCK'] < 9)])\n",
    "shot_clock_ranges.append(shots.loc[(shots['SHOT_CLOCK'] >= 7) & (shots['SHOT_CLOCK'] < 8)])\n",
    "shot_clock_ranges.append(shots.loc[(shots['SHOT_CLOCK'] >= 6) & (shots['SHOT_CLOCK'] < 7)])\n",
    "shot_clock_ranges.append(shots.loc[(shots['SHOT_CLOCK'] >= 5) & (shots['SHOT_CLOCK'] < 6)])\n",
    "shot_clock_ranges.append(shots.loc[(shots['SHOT_CLOCK'] >= 4) & (shots['SHOT_CLOCK'] < 5)])\n",
    "shot_clock_ranges.append(shots.loc[(shots['SHOT_CLOCK'] >= 3) & (shots['SHOT_CLOCK'] < 4)])\n",
    "shot_clock_ranges.append(shots.loc[(shots['SHOT_CLOCK'] >= 2) & (shots['SHOT_CLOCK'] < 3)])\n",
    "shot_clock_ranges.append(shots.loc[(shots['SHOT_CLOCK'] >= 1) & (shots['SHOT_CLOCK'] < 2)])\n",
    "shot_clock_ranges.append(shots.loc[(shots['SHOT_CLOCK'] >= 0) & (shots['SHOT_CLOCK'] < 1)])\n",
    "\n",
    "field_goal_percentages = []\n",
    "points_per_shots = []\n",
    "for shot_range in shot_clock_ranges:\n",
    "    field_goal_percentages.append(shot_range['FGM'].sum() / shot_range['FGM'].count())\n",
    "    points_per_shots.append(shot_range['PTS'].sum() / shot_range['PTS'].count())\n",
    "\n",
    "print (field_goal_percentages)\n",
    "print (points_per_shots)"
   ]
  },
  {
   "cell_type": "code",
   "execution_count": null,
   "metadata": {},
   "outputs": [],
   "source": [
    "plt.plot(field_goal_percentages, marker = 'o')\n",
    "\n",
    "plt.legend(['Field Goal Percentage'])\n",
    "plt.ylabel('Percentage')\n",
    "plt.xlabel('Time passed')\n",
    "plt.title('Field Goal Percentage VS Time passed')"
   ]
  },
  {
   "cell_type": "code",
   "execution_count": null,
   "metadata": {},
   "outputs": [],
   "source": [
    "plt.plot(points_per_shots, marker = 'o')\n",
    "\n",
    "plt.legend(['Points per shot'])\n",
    "plt.ylabel('Points per shot')\n",
    "plt.xlabel('Time passed')\n",
    "plt.title('Points per shot VS Time passed')\n"
   ]
  },
  {
   "cell_type": "markdown",
   "metadata": {},
   "source": [
    "# Data Analysis & Results"
   ]
  },
  {
   "cell_type": "markdown",
   "metadata": {},
   "source": [
    "The first graph showing the distribution of shot attempts stands out to us immediately since it appears to have a Gaussian distribution. Although it is not perfectly normally distributed around the mean, it still has the form of a Gaussian distribution with the outlier here being the 24 second shot. We believe this outlier to be unique because in order to have a chance to make it within the last second without a shot clock violation, players must shoot the ball immediately. This often leads to what is known as a “clutch” shot.\n",
    "\n",
    "Looking at the second graph which shows the “Field Goal Percentage VS Time passed,” we can see that there is a clear relationship between the time that has passed as the team has held the ball and the percentage of shots that are made at that time difference. According to our data, the teams who attempt to shoot earlier are the ones who make more shots. This completely contradicts our hypothesis, which says that teams who take their time in shooting the ball will make more shots. There are several possible reasons as to why this is the case:\n",
    " \n",
    "- 1) Fastbreaks\n",
    "- 2) Offensive Rebounds\n",
    "- 3) Free-throw Offensive Rebounds\n",
    "\n",
    "During a fastbreak, the defending team will get a defensive rebound or turnover and will run down the court as fast as possible to attempt a shot (which is usually a layup or a dunk). The team who initiates the fastbreak has a good chance of making the ball since they outrun other team due to their haste in grabbing the ball from the turnover and surprising the other team. Since the player who makes a shot attempt during a fastbreak does not usually have any defenders impeding him, he will most likely make the shot. Thus, because the fastbreak happens relatively quickly and the team who initiates it makes a shot attempt earlier in the shot clock, the fastbreak offers a good explanation as to why more shots are made earlier.\n",
    "\n",
    "Before we delve into the offensive rebounds possibility, we must first explain the new rules that the NBA has introduced into the 2018-2019 NBA season. Starting this season, if a team picks up an offensive rebound then the shot clock will reset to 14 seconds for that team. The data we currently have is from the 2014-2015 NBA season where the shot clock always resets to 24 seconds, so it is not affected by this new ruling. The new ruling would definitely affect our data, and it would be interesting as a future topic of discussion to see how it would skew the field goal percentage and shot clock graph.\n",
    "\n",
    "Offensive rebounds offer a good explanation as to why teams have a higher chance of making a shot earlier in the shot clock. When a team misses their own shot and grabs the offensive rebound, the ball often lands closer to the paint zone which is right next to the basket. Since centers are taller than most players who play the other positions, they utilize their height to grab the offensive rebound and make the basket (which happens earlier in the shot clock). In fact, it doesn’t have to be a center who grabs the offensive rebound and makes a shot attempt. The ball could be pushed behind the paint a bit and a player who plays a different position utilizes the offensive rebound to run up to the basket and make a layup early in the shot clock.\n",
    "\n",
    "Similarly, free-throw offensive rebounds can explain why the data shows that early shot attempts are made more often. They are more rare than offensive rebounds in general since the defending team has two players that are closer to the basket. Regardless, they do affect the outcome of our data because players who get a free-throw offensive rebound will usually utilize the surprise of the other plays to post a shot attempt.\n"
   ]
  },
  {
   "cell_type": "code",
   "execution_count": 3,
   "metadata": {},
   "outputs": [],
   "source": [
    "## YOUR CODE HERE\n",
    "## FEEL FREE TO ADD MULTIPLE CELLS PER SECTION"
   ]
  },
  {
   "cell_type": "markdown",
   "metadata": {},
   "source": [
    "# Ethics & Privacy"
   ]
  },
  {
   "cell_type": "markdown",
   "metadata": {},
   "source": [
    "*Fill in your ethics & privacy discussion here*"
   ]
  },
  {
   "cell_type": "markdown",
   "metadata": {},
   "source": [
    "# Conclusion & Discussion"
   ]
  },
  {
   "cell_type": "markdown",
   "metadata": {},
   "source": [
    "*Fill in your discussion information here*"
   ]
  }
 ],
 "metadata": {
  "kernelspec": {
   "display_name": "Python 3",
   "language": "python",
   "name": "python3"
  },
  "language_info": {
   "codemirror_mode": {
    "name": "ipython",
    "version": 3
   },
   "file_extension": ".py",
   "mimetype": "text/x-python",
   "name": "python",
   "nbconvert_exporter": "python",
   "pygments_lexer": "ipython3",
   "version": "3.6.7"
  }
 },
 "nbformat": 4,
 "nbformat_minor": 2
}
